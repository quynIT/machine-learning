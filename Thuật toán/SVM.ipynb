{
  "nbformat": 4,
  "nbformat_minor": 0,
  "metadata": {
    "colab": {
      "provenance": [],
      "toc_visible": true
    },
    "kernelspec": {
      "name": "python3",
      "display_name": "Python 3"
    },
    "language_info": {
      "name": "python"
    }
  },
  "cells": [
    {
      "cell_type": "code",
      "execution_count": null,
      "metadata": {
        "id": "fVAao6maFPPb"
      },
      "outputs": [],
      "source": [
        "# This Python 3 environment comes with many helpful analytics libraries installed\n",
        "# It is defined by the kaggle/python Docker image: https://github.com/kaggle/docker-python\n",
        "# For example, here's several helpful packages to load\n",
        "\n",
        "import numpy as np # linear algebra\n",
        "import pandas as pd # data processing, CSV file I/O (e.g. pd.read_csv)\n",
        "\n",
        "# Input data files are available in the read-only \"../input/\" directory\n",
        "# For example, running this (by clicking run or pressing Shift+Enter) will list all files under the input directory\n",
        "\n",
        "import os\n",
        "for dirname, _, filenames in os.walk('/kaggle/input'):\n",
        "    for filename in filenames:\n",
        "        print(os.path.join(dirname, filename))\n",
        "\n",
        "# You can write up to 20GB to the current directory (/kaggle/working/) that gets preserved as output when you create a version using \"Save & Run All\"\n",
        "# You can also write temporary files to /kaggle/temp/, but they won't be saved outside of the current session"
      ]
    },
    {
      "cell_type": "markdown",
      "source": [
        "Khởi tạo môi trường làm việc: Kiểm tra thư mục và tệp dữ liệu đầu vào.\n",
        "Định vị dữ liệu: Liệt kê đường dẫn tệp trong thư mục đầu vào để dễ dàng tải và xử lý.\n",
        "Lưu trữ đầu ra và dữ liệu tạm thời: Xác định vị trí lưu trữ đầu ra và tạm thời cho quá trình xử lý."
      ],
      "metadata": {
        "id": "Ft43ILY5JFw4"
      }
    },
    {
      "cell_type": "code",
      "source": [
        "import numpy as np\n",
        "from sklearn.model_selection import train_test_split\n",
        "from sklearn.svm import SVC\n",
        "from sklearn.metrics import accuracy_score\n",
        "import matplotlib.pyplot as plt\n",
        "\n",
        "# Load data from files\n",
        "categories_file_path = \"/content/submission_categories.txt\"\n",
        "instructions_file_path = \"/content/submission_instructions.txt\"\n",
        "\n",
        "# Load text data\n",
        "with open(categories_file_path, \"r\", encoding=\"utf-8\") as categories_file:\n",
        "    categories_data = categories_file.readlines()\n",
        "\n",
        "with open(instructions_file_path, \"r\", encoding=\"utf-8\") as instructions_file:\n",
        "    instructions_data = instructions_file.readlines()\n",
        "\n",
        "# Check the number of samples in each file\n",
        "num_samples_categories = len(categories_data)\n",
        "num_samples_instructions = len(instructions_data)\n",
        "\n",
        "# Ensure the number of samples matches\n",
        "if num_samples_categories != num_samples_instructions:\n",
        "    print(\"Error: Number of samples in categories file and instructions file do not match.\")\n",
        "    print(\"Number of samples in categories file:\", num_samples_categories)\n",
        "    print(\"Number of samples in instructions file:\", num_samples_instructions)\n",
        "else:\n",
        "    print(\"Number of samples in categories file:\", num_samples_categories)\n",
        "    print(\"Number of samples in instructions file:\", num_samples_instructions)\n",
        "    # Convert data to numpy arrays\n",
        "    X = np.array(categories_data)\n",
        "    y = np.array(instructions_data)\n",
        "\n",
        "    # Varying sample sizes\n",
        "    sample_sizes = [100, 200, 300, 400, 500]\n",
        "\n",
        "    # Initialize lists to store accuracies\n",
        "    accuracies = []\n",
        "\n",
        "    # Train SVM model for each sample size\n",
        "    for size in sample_sizes:\n",
        "        X_train, X_val, y_train, y_val = train_test_split(X, y, test_size=1 - size / len(X), random_state=42)\n",
        "        svm_model = SVC(kernel='linear')\n",
        "        svm_model.fit(X_train, y_train)\n",
        "        y_pred = svm_model.predict(X_val)\n",
        "        accuracy = accuracy_score(y_val, y_pred)\n",
        "        accuracies.append(accuracy)\n",
        "\n",
        "    # Plot accuracy vs sample size\n",
        "    plt.plot(sample_sizes, accuracies, marker='o')\n",
        "    plt.title('Accuracy vs Sample Size')\n",
        "    plt.xlabel('Sample Size')\n",
        "    plt.ylabel('Accuracy')\n",
        "    plt.show()"
      ],
      "metadata": {
        "colab": {
          "base_uri": "https://localhost:8080/"
        },
        "id": "0FQ3vSEUJMUu",
        "outputId": "8c254f99-219a-44b9-b495-73d6935a52a3"
      },
      "execution_count": null,
      "outputs": [
        {
          "output_type": "stream",
          "name": "stdout",
          "text": [
            "Error: Number of samples in categories file and instructions file do not match.\n",
            "Number of samples in categories file: 13\n",
            "Number of samples in instructions file: 5\n"
          ]
        }
      ]
    },
    {
      "cell_type": "markdown",
      "source": [
        "Tải dữ liệu lên để huấn luyện.\n",
        "Khám phá ảnh hưởng kích thước mẫu đến độ chính xác: Huấn luyện mô hình SVM trên các kích thước mẫu khác nhau và biểu đồ hiển thị sự thay đổi độ chính xác khi số lượng mẫu tăng."
      ],
      "metadata": {
        "id": "RtP0q4bvZ9oe"
      }
    },
    {
      "cell_type": "code",
      "source": [
        "import numpy as np\n",
        "from sklearn.model_selection import train_test_split\n",
        "from sklearn.preprocessing import LabelEncoder\n",
        "from sklearn.metrics import accuracy_score\n",
        "import tensorflow as tf\n",
        "from tensorflow.keras.models import Sequential\n",
        "from tensorflow.keras.layers import Dense, Embedding, Flatten\n",
        "\n",
        "# Load data from files\n",
        "categories_file_path = \"/content/submission_categories.txt\"\n",
        "instructions_file_path = \"/content/submission_instructions.txt\"\n",
        "\n",
        "# Load text data\n",
        "with open(categories_file_path, \"r\", encoding=\"utf-8\") as categories_file:\n",
        "    categories_data = categories_file.readlines()\n",
        "\n",
        "with open(instructions_file_path, \"r\", encoding=\"utf-8\") as instructions_file:\n",
        "    instructions_data = instructions_file.readlines()\n",
        "\n",
        "# Check the number of samples in each file\n",
        "num_samples_categories = len(categories_data)\n",
        "num_samples_instructions = len(instructions_data)\n",
        "\n",
        "# Ensure the number of samples matches\n",
        "if num_samples_categories != num_samples_instructions:\n",
        "    print(\"Error: Number of samples in categories file and instructions file do not match.\")\n",
        "    print(\"Number of samples in categories file:\", num_samples_categories)\n",
        "    print(\"Number of samples in instructions file:\", num_samples_instructions)\n",
        "else:\n",
        "    print(\"Number of samples in categories file:\", num_samples_categories)\n",
        "    print(\"Number of samples in instructions file:\", num_samples_instructions)\n",
        "\n",
        "    # Convert data to numpy arrays\n",
        "    X = np.array(categories_data)\n",
        "    y = np.array(instructions_data)\n",
        "\n",
        "    # Encode labels\n",
        "    label_encoder = LabelEncoder()\n",
        "    y = label_encoder.fit_transform(y)\n",
        "\n",
        "    # Split data into training and validation sets\n",
        "    X_train, X_val, y_train, y_val = train_test_split(X, y, test_size=0.2, random_state=42)\n",
        "\n",
        "    # Tokenize text data\n",
        "    tokenizer = tf.keras.preprocessing.text.Tokenizer(num_words=10000)\n",
        "    tokenizer.fit_on_texts(X_train)\n",
        "\n",
        "    X_train = tokenizer.texts_to_sequences(X_train)\n",
        "    X_val = tokenizer.texts_to_sequences(X_val)\n",
        "\n",
        "    # Pad sequences for uniform length\n",
        "    X_train = tf.keras.preprocessing.sequence.pad_sequences(X_train, padding='post', maxlen=100)\n",
        "    X_val = tf.keras.preprocessing.sequence.pad_sequences(X_val, padding='post', maxlen=100)\n",
        "\n",
        "    # Define the neural network model\n",
        "    model = Sequential()\n",
        "    model.add(Embedding(10000, 128, input_length=100))\n",
        "    model.add(Flatten())\n",
        "    model.add(Dense(64, activation='relu'))\n",
        "    model.add(Dense(1, activation='sigmoid'))\n",
        "\n",
        "    # Compile the model\n",
        "    model.compile(optimizer='adam', loss='binary_crossentropy', metrics=['accuracy'])\n",
        "\n",
        "    # Train the model\n",
        "    history = model.fit(X_train, y_train, validation_data=(X_val, y_val), epochs=10, batch_size=32)\n",
        "\n",
        "    # Evaluate the model\n",
        "    loss, accuracy = model.evaluate(X_val, y_val)\n",
        "    print(\"Validation accuracy:\", accuracy)"
      ],
      "metadata": {
        "colab": {
          "base_uri": "https://localhost:8080/"
        },
        "id": "8wzB0JilaYjv",
        "outputId": "fb4b7565-2898-476e-bcdf-d60b91f6b82d"
      },
      "execution_count": null,
      "outputs": [
        {
          "output_type": "stream",
          "name": "stdout",
          "text": [
            "Error: Number of samples in categories file and instructions file do not match.\n",
            "Number of samples in categories file: 13\n",
            "Number of samples in instructions file: 5\n"
          ]
        }
      ]
    },
    {
      "cell_type": "markdown",
      "source": [
        "lấy dữ liệu để đọc và in ra các tệp categories và instructions có các file giống nhau, đảm bảo dữ liệu trực quan"
      ],
      "metadata": {
        "id": "MrAIWJb5bFGM"
      }
    }
  ]
}
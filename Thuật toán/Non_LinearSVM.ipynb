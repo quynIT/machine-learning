{
  "nbformat": 4,
  "nbformat_minor": 0,
  "metadata": {
    "colab": {
      "provenance": [],
      "toc_visible": true
    },
    "kernelspec": {
      "name": "python3",
      "display_name": "Python 3"
    },
    "language_info": {
      "name": "python"
    }
  },
  "cells": [
    {
      "cell_type": "code",
      "execution_count": null,
      "metadata": {
        "id": "zymsLJgrZj71"
      },
      "outputs": [],
      "source": [
        "import matplotlib.pyplot as plt\n",
        "import numpy as np\n",
        "from sklearn import datasets\n",
        "# import tensorflow as tf\n",
        "\n",
        "import tensorflow.compat.v1 as tf\n",
        "tf.disable_v2_behavior()\n",
        "\n",
        "# With eager execution, we just perform operations directly\n",
        "a = tf.constant(5.0)\n",
        "b = tf.constant(3.0)\n",
        "c = a + b\n",
        "\n",
        "# sess = tf.Session()\n",
        "# Build a graph.\n",
        "a = tf.constant(5.0)\n",
        "b = tf.constant(6.0)\n",
        "c = a * b\n",
        "\n",
        "# Launch the graph in a session.\n",
        "sess = tf.compat.v1.Session()\n",
        "\n",
        "# Evaluate the tensor `c`.\n",
        "# print(sess.run(c))"
      ]
    },
    {
      "cell_type": "markdown",
      "source": [
        "import các thư viện cần thiết cho huấn luyện mô hình"
      ],
      "metadata": {
        "id": "J1zIsLdCfxkK"
      }
    },
    {
      "cell_type": "code",
      "source": [
        "import pandas as pd # data processing, CSV file I/O (e.g. pd.read_csv)\n",
        "import os\n",
        "import gc\n",
        "import seaborn as sns\n",
        "\n",
        "from scipy import ndimage\n",
        "from subprocess import check_output\n",
        "\n",
        "import cv2\n",
        "\n",
        "\n",
        "pal = sns.color_palette()\n",
        "\n",
        "import plotly.offline as py\n",
        "py.init_notebook_mode(connected=True)\n",
        "import plotly.graph_objs as go\n",
        "import plotly.tools as tls"
      ],
      "metadata": {
        "colab": {
          "base_uri": "https://localhost:8080/",
          "height": 17
        },
        "id": "ZUCR6awJh0_q",
        "outputId": "d7dff02e-e686-4045-ed2d-a3678a29747d"
      },
      "execution_count": null,
      "outputs": [
        {
          "output_type": "display_data",
          "data": {
            "text/html": [
              "        <script type=\"text/javascript\">\n",
              "        window.PlotlyConfig = {MathJaxConfig: 'local'};\n",
              "        if (window.MathJax && window.MathJax.Hub && window.MathJax.Hub.Config) {window.MathJax.Hub.Config({SVG: {font: \"STIX-Web\"}});}\n",
              "        if (typeof require !== 'undefined') {\n",
              "        require.undef(\"plotly\");\n",
              "        requirejs.config({\n",
              "            paths: {\n",
              "                'plotly': ['https://cdn.plot.ly/plotly-2.35.2.min']\n",
              "            }\n",
              "        });\n",
              "        require(['plotly'], function(Plotly) {\n",
              "            window._Plotly = Plotly;\n",
              "        });\n",
              "        }\n",
              "        </script>\n",
              "        "
            ]
          },
          "metadata": {}
        }
      ]
    },
    {
      "cell_type": "markdown",
      "source": [
        "công cụ hỗ trợ việc tạo và tùy chỉnh các biểu đồ"
      ],
      "metadata": {
        "id": "3n53F_Hqi2ho"
      }
    },
    {
      "cell_type": "code",
      "source": [
        "iris = datasets.load_iris()\n",
        "x_vals = np.array([[x[0], x[3]] for x in iris.data])\n",
        "y_vals = np.array([1 if y==0 else -1 for y in iris.target])\n",
        "class1_x = [x[0] for i,x in enumerate(x_vals) if\n",
        "y_vals[i]==1]\n",
        "class1_y = [x[1] for i,x in enumerate(x_vals) if\n",
        "y_vals[i]==1]\n",
        "class2_x = [x[0] for i,x in enumerate(x_vals) if\n",
        "y_vals[i]==-1]\n",
        "class2_y = [x[1] for i,x in enumerate(x_vals) if\n",
        "y_vals[i]==-1]"
      ],
      "metadata": {
        "id": "FaOaiaOhjTlD"
      },
      "execution_count": null,
      "outputs": []
    },
    {
      "cell_type": "markdown",
      "source": [
        "Chia dữ liệu Iris thành hai lớp dựa trên giá trị y_vals, sau đó lưu trữ các giá trị x và y của từng lớp để dễ dàng trực quan hóa."
      ],
      "metadata": {
        "id": "HEPcZSF8kZLk"
      }
    },
    {
      "cell_type": "code",
      "source": [
        "batch_size = 100\n",
        "x_data = tf.placeholder(shape=[None, 2], dtype=tf.float32)\n",
        "y_target = tf.placeholder(shape=[None, 1], dtype=tf.float32)\n",
        "prediction_grid = tf.placeholder(shape=[None, 2],\n",
        "dtype=tf.float32)\n",
        "b = tf.Variable(tf.random_normal(shape=[1,batch_size]))"
      ],
      "metadata": {
        "id": "gMDlJ0BOkwwg"
      },
      "execution_count": null,
      "outputs": []
    },
    {
      "cell_type": "markdown",
      "source": [
        "lấy tập dữ liệu và nhãn từ thuộc tính placehoder"
      ],
      "metadata": {
        "id": "_rYb1-JgKA8U"
      }
    },
    {
      "cell_type": "code",
      "source": [
        "gamma = tf.constant(-10.0) # feel free to explore different values of gamma\n",
        "dist = tf.reduce_sum(tf.square(x_data), 1)\n",
        "dist = tf.reshape(dist, [-1,1])\n",
        "sq_dists = tf.add(tf.subtract(dist, tf.multiply(2., tf.matmul(x_data,\n",
        "tf.transpose(x_data)))), tf.transpose(dist))\n",
        "my_kernel = tf.exp(tf.multiply(gamma, tf.abs(sq_dists)))\n",
        "#We now compute the loss for the dual optimization problem, as follows:\n",
        "model_output = tf.matmul(b, my_kernel)\n",
        "first_term = tf.reduce_sum(b)\n",
        "b_vec_cross = tf.matmul(tf.transpose(b), b)\n",
        "y_target_cross = tf.matmul(y_target, tf.transpose(y_target))\n",
        "second_term = tf.reduce_sum(tf.multiply(my_kernel,\n",
        "tf.multiply(b_vec_cross, y_target_cross)))\n",
        "loss = tf.negative(tf.subtract(first_term, second_term))"
      ],
      "metadata": {
        "id": "MkdFkdJjKguf"
      },
      "execution_count": null,
      "outputs": []
    },
    {
      "cell_type": "markdown",
      "source": [
        "Dòng này tính toán hàm mất mát cho bài toán tối ưu hóa kép, sử dụng loss làm mục tiêu để tìm siêu phẳng phân tách lớp dữ liệu."
      ],
      "metadata": {
        "id": "7a1dO_E4LACW"
      }
    },
    {
      "cell_type": "code",
      "source": [
        "rA = tf.reshape(tf.reduce_sum(tf.square(x_data), 1),[-1,1])\n",
        "rB = tf.reshape(tf.reduce_sum(tf.square(prediction_grid), 1),\n",
        "[-1,1])\n",
        "pred_sq_dist = tf.add(tf.subtract(rA, tf.multiply(2., tf.matmul(x_data,\n",
        "tf.transpose(prediction_grid)))), tf.transpose(rB))"
      ],
      "metadata": {
        "id": "9V5lPkH1LvwE"
      },
      "execution_count": null,
      "outputs": []
    },
    {
      "cell_type": "markdown",
      "source": [
        "Tính ma trận khoảng cách bình phương giữa các điểm trong x_data và prediction_grid để đo sự tương đồng giữa điểm dữ liệu và điểm dự đoán."
      ],
      "metadata": {
        "id": "T95k8j98L7kC"
      }
    },
    {
      "cell_type": "code",
      "source": [
        "pred_kernel = tf.exp(tf.multiply(gamma, tf.abs(pred_sq_dist)))\n",
        "prediction_output =tf.matmul(tf.multiply(tf.transpose(y_target),b), pred_kernel)"
      ],
      "metadata": {
        "id": "0qSsdU7PMWWJ"
      },
      "execution_count": null,
      "outputs": []
    },
    {
      "cell_type": "markdown",
      "source": [
        "Dùng ma trận kernel giữa các điểm trong x_data và prediction_grid để tính toán dự đoán đầu ra và xác định sự tương đồng giữa các điểm."
      ],
      "metadata": {
        "id": "ruPDD5y_MiOz"
      }
    },
    {
      "cell_type": "code",
      "source": [
        "prediction = tf.sign(prediction_output-tf.reduce_mean(prediction_output))"
      ],
      "metadata": {
        "id": "Oxmgk-yjNnXK"
      },
      "execution_count": null,
      "outputs": []
    },
    {
      "cell_type": "markdown",
      "source": [
        "Phân loại đầu ra dự đoán bằng cách so sánh sự khác biệt giữa prediction_output và giá trị trung bình của nó."
      ],
      "metadata": {
        "id": "6tqgTuE2N3Yf"
      }
    },
    {
      "cell_type": "code",
      "source": [
        "accuracy =tf.reduce_mean(tf.cast(tf.equal(tf.squeeze(prediction),tf.squeeze(y_target)), tf.float32))"
      ],
      "metadata": {
        "id": "aeOsa5wFOaEa"
      },
      "execution_count": null,
      "outputs": []
    },
    {
      "cell_type": "markdown",
      "source": [
        "Tính độ chính xác của mô hình bằng cách so sánh dự đoán prediction với nhãn thực tế y_target và tính tỷ lệ phần trăm dự đoán chính xác."
      ],
      "metadata": {
        "id": "gc5WGc3AOkpA"
      }
    },
    {
      "cell_type": "code",
      "source": [
        "my_opt = tf.train.GradientDescentOptimizer(0.01)\n",
        "train_step = my_opt.minimize(loss)\n",
        "init = tf.global_variables_initializer() # this line is different depending on your version of tf\n",
        "sess.run(init)"
      ],
      "metadata": {
        "id": "IYo_jeH2O9ll"
      },
      "execution_count": null,
      "outputs": []
    },
    {
      "cell_type": "markdown",
      "source": [
        "Sử dụng optimizer với Gradient Descent và cấu hình bước huấn luyện train_step để tối ưu hóa hàm mất mát, sau đó khởi tạo các biến trong mô hình và bắt đầu quá trình huấn luyện."
      ],
      "metadata": {
        "id": "UAY5selEPYbl"
      }
    },
    {
      "cell_type": "code",
      "source": [
        "loss_vec = []\n",
        "batch_accuracy = []\n",
        "for i in range(300):\n",
        "    rand_index = np.random.choice(len(x_vals),size=batch_size)\n",
        "    rand_x = x_vals[rand_index]\n",
        "    rand_y = np.transpose([y_vals[rand_index]])\n",
        "    sess.run(train_step, feed_dict={x_data: rand_x, y_target:rand_y})\n",
        "    temp_loss = sess.run(loss, feed_dict={x_data: rand_x,y_target: rand_y})\n",
        "    loss_vec.append(temp_loss)\n",
        "    acc_temp = sess.run(accuracy, feed_dict={x_data: rand_x,y_target:rand_y,prediction_grid:rand_x})\n",
        "    batch_accuracy.append(acc_temp)"
      ],
      "metadata": {
        "id": "5hJUtn-WPxx7"
      },
      "execution_count": null,
      "outputs": []
    },
    {
      "cell_type": "markdown",
      "source": [
        "Mỗi vòng lặp huấn luyện cập nhật trọng số bằng Gradient Descent, tính toán và lưu trữ giá trị mất mát và độ chính xác để theo dõi sự cải thiện hiệu suất của mô hình."
      ],
      "metadata": {
        "id": "N2IU7HCdQR5R"
      }
    },
    {
      "cell_type": "code",
      "source": [
        "x_min, x_max = x_vals[:, 0].min() - 1, x_vals[:, 0].max() + 1\n",
        "y_min, y_max = x_vals[:, 1].min() - 1, x_vals[:, 1].max() + 1\n",
        "xx, yy = np.meshgrid(np.arange(x_min, x_max, 0.02),np.arange(y_min, y_max, 0.02))\n",
        "grid_points = np.c_[xx.ravel(), yy.ravel()]\n",
        "[grid_predictions] = sess.run(prediction, feed_dict={x_data:rand_x,y_target:rand_y,prediction_grid: grid_points})\n",
        "grid_predictions = grid_predictions.reshape(xx.shape)"
      ],
      "metadata": {
        "id": "4SnXB3RwQ-TK"
      },
      "execution_count": null,
      "outputs": []
    },
    {
      "cell_type": "markdown",
      "source": [
        "Tạo lưới điểm trong không gian đặc trưng, sử dụng mô hình huấn luyện để dự đoán cho các điểm này, và lưu các dự đoán trong grid_predictions để trực quan hóa quyết định phân loại."
      ],
      "metadata": {
        "id": "BsOEc05CTMji"
      }
    },
    {
      "cell_type": "code",
      "source": [
        "plt.contourf(xx, yy, grid_predictions, cmap=plt.cm.Paired,\n",
        "alpha=0.8)\n",
        "plt.plot(class1_x, class1_y, 'ro', label='I. setosa')\n",
        "plt.plot(class2_x, class2_y, 'kx', label='Non setosa')\n",
        "plt.title('Non Linear (Gaussian) Kernel SVM Results: Iris Data')\n",
        "plt.xlabel('Pedal Length')\n",
        "plt.ylabel('Sepal Width')\n",
        "plt.legend(loc='lower right')\n",
        "plt.ylim([-0.5, 3.0])\n",
        "plt.xlim([3.5, 8.5])\n",
        "plt.show()"
      ],
      "metadata": {
        "colab": {
          "base_uri": "https://localhost:8080/",
          "height": 472
        },
        "id": "jYqB7zUDTz4V",
        "outputId": "bd32c0e2-6d63-48ed-9f5b-421b2cdc3e62"
      },
      "execution_count": null,
      "outputs": [
        {
          "output_type": "display_data",
          "data": {
            "text/plain": [
              "<Figure size 640x480 with 1 Axes>"
            ],
            "image/png": "[encoded data removed]"
          },
          "metadata": {}
        }
      ]
    },
    {
      "cell_type": "markdown",
      "source": [
        "Đoạn mã tạo biểu đồ phân loại 2D thể hiện các vùng quyết định của mô hình SVM với kernel Gaussian, mô phỏng cách phân loại dữ liệu."
      ],
      "metadata": {
        "id": "qz8YS4mmVf2k"
      }
    },
    {
      "cell_type": "code",
      "source": [
        "iris = datasets.load_iris()\n",
        "x_vals = np.array([[x[0], x[3]] for x in iris.data])\n",
        "y_vals1 = np.array([1 if y==0 else -1 for y in iris.target])\n",
        "y_vals2 = np.array([1 if y==1 else -1 for y in iris.target])\n",
        "y_vals3 = np.array([1 if y==2 else -1 for y in iris.target])\n",
        "y_vals = np.array([y_vals1, y_vals2, y_vals3])\n",
        "class1_x = [x[0] for i,x in enumerate(x_vals) if\n",
        "iris.target[i]==0]\n",
        "class1_y = [x[1] for i,x in enumerate(x_vals) if\n",
        "iris.target[i]==0]\n",
        "class2_x = [x[0] for i,x in enumerate(x_vals) if\n",
        "iris.target[i]==1]\n",
        "class2_y = [x[1] for i,x in enumerate(x_vals) if\n",
        "iris.target[i]==1]\n",
        "class3_x = [x[0] for i,x in enumerate(x_vals) if\n",
        "iris.target[i]==2]\n",
        "class3_y = [x[1] for i,x in enumerate(x_vals) if\n",
        "iris.target[i]==2]"
      ],
      "metadata": {
        "id": "whQd0zrfV4cH"
      },
      "execution_count": null,
      "outputs": []
    },
    {
      "cell_type": "markdown",
      "source": [
        "Đoạn mã tạo biểu đồ phân loại 2D thể hiện các vùng quyết định của mô hình SVM với kernel Gaussian, mô phỏng cách phân loại dữ liệu."
      ],
      "metadata": {
        "id": "4QGkE0uhWI-f"
      }
    },
    {
      "cell_type": "code",
      "source": [
        "batch_size = 50\n",
        "x_data = tf.placeholder(shape=[None, 2], dtype=tf.float32)\n",
        "y_target = tf.placeholder(shape=[3, None], dtype=tf.float32)\n",
        "prediction_grid = tf.placeholder(shape=[None, 2],dtype=tf.float32)\n",
        "b = tf.Variable(tf.random_normal(shape=[3,batch_size]))"
      ],
      "metadata": {
        "id": "k-bUhmS7Wtwx"
      },
      "execution_count": null,
      "outputs": []
    },
    {
      "cell_type": "markdown",
      "source": [
        "Đoạn mã sử dụng TensorFlow để chuẩn bị placeholder và biến cho mô hình phân loại, với mỗi placeholder đại diện cho dữ liệu cần thiết và biến b chứa trọng số mô hình."
      ],
      "metadata": {
        "id": "l6dxGSLOYAcZ"
      }
    },
    {
      "cell_type": "code",
      "source": [
        "gamma = tf.constant(-1.0)\n",
        "dist = tf.reduce_sum(tf.square(x_data), 1)\n",
        "dist = tf.reshape(dist, [-1,1])\n",
        "sq_dists = tf.add(tf.subtract(dist, tf.multiply(2., tf.matmul(x_data,tf.transpose(x_data)))), tf.transpose(dist))\n",
        "my_kernel = tf.exp(tf.multiply(gamma, tf.abs(sq_dists)))"
      ],
      "metadata": {
        "id": "RKqXRvDAYWxG"
      },
      "execution_count": null,
      "outputs": []
    },
    {
      "cell_type": "markdown",
      "source": [
        "Thực hiện tính toán kernel Gauss (RBF kernel) để đo sự tương đồng giữa các điểm dữ liệu dựa trên khoảng cách Euclid:\n",
        "\n",
        "Tính tổng bình phương các đặc trưng trong x_data.\n",
        "Tính khoảng cách bình phương giữa các điểm dữ liệu.\n",
        "Tính kernel Gauss dựa trên khoảng cách và hằng số gamma."
      ],
      "metadata": {
        "id": "7RL1Co6WZB-2"
      }
    },
    {
      "cell_type": "code",
      "source": [
        "#batch multiplication\n",
        "def reshape_matmul(mat):\n",
        "    v1 = tf.expand_dims(mat, 1)\n",
        "    v2 = tf.reshape(v1, [3, batch_size, 1])\n",
        "    return(tf.matmul(v2, v1))"
      ],
      "metadata": {
        "id": "rMVQWijgZo9e"
      },
      "execution_count": null,
      "outputs": []
    },
    {
      "cell_type": "markdown",
      "source": [
        "định nghĩa một hàm reshape_matmul phép nhân ma trận theo batch trong TensorFlow"
      ],
      "metadata": {
        "id": "IImjiQyRaPdv"
      }
    },
    {
      "cell_type": "code",
      "source": [
        "#loss\n",
        "model_output = tf.matmul(b, my_kernel)\n",
        "first_term = tf.reduce_sum(b)\n",
        "b_vec_cross = tf.matmul(tf.transpose(b), b)\n",
        "y_target_cross = reshape_matmul(y_target)\n",
        "second_term = tf.reduce_sum(tf.multiply(my_kernel,tf.multiply(b_vec_cross, y_target_cross)),[1,2])\n",
        "loss = tf.reduce_sum(tf.negative(tf.subtract(first_term, second_term)))"
      ],
      "metadata": {
        "id": "6iHK6QiqaZ33"
      },
      "execution_count": null,
      "outputs": []
    },
    {
      "cell_type": "markdown",
      "source": [
        "gồm hai phần chính:\n",
        "- first_term: một phần là tổng trọng số trong mô hình\n",
        "- second_term: một phần liên quan đến các phép toán nhân giữa kernel, trọng số và nhãn mục tiêu"
      ],
      "metadata": {
        "id": "oHH3Eq6Da-TJ"
      }
    },
    {
      "cell_type": "code",
      "source": [
        "rA = tf.reshape(tf.reduce_sum(tf.square(x_data), 1),[-1,1])\n",
        "rB = tf.reshape(tf.reduce_sum(tf.square(prediction_grid), 1),[-1,1])\n",
        "\n",
        "pred_sq_dist = tf.add(tf.subtract(rA, tf.multiply(2., tf.matmul(x_data,tf.transpose(prediction_grid)))), tf.transpose(rB))\n",
        "pred_kernel = tf.exp(tf.multiply(gamma, tf.abs(pred_sq_dist)))"
      ],
      "metadata": {
        "id": "EO0oVQ5Cbkn2"
      },
      "execution_count": null,
      "outputs": []
    },
    {
      "cell_type": "markdown",
      "source": [
        "Tính toán kernel Gaussian trong không gian đặc trưng để đo độ tương đồng giữa các điểm dữ liệu."
      ],
      "metadata": {
        "id": "lY_G4mhEc5Bx"
      }
    },
    {
      "cell_type": "code",
      "source": [
        "prediction_output = tf.matmul(tf.multiply(y_target,b),pred_kernel)\n",
        "prediction = tf.arg_max(prediction_output-tf.expand_dims(tf.reduce_mean(prediction_output,1), 1), 0)\n",
        "accuracy = tf.reduce_mean(tf.cast(tf.equal(prediction,tf.argmax(y_target,0)), tf.float32))"
      ],
      "metadata": {
        "colab": {
          "base_uri": "https://localhost:8080/"
        },
        "id": "CBf6bONSdQqn",
        "outputId": "6888834a-6af4-45dc-deb6-b727e3bb3fd5"
      },
      "execution_count": null,
      "outputs": [
        {
          "output_type": "stream",
          "name": "stderr",
          "text": [
            "WARNING:tensorflow:From <ipython-input-39-2da30e503656>:2: arg_max (from tensorflow.python.ops.gen_math_ops) is deprecated and will be removed in a future version.\n",
            "Instructions for updating:\n",
            "Use `tf.math.argmax` instead\n"
          ]
        }
      ]
    },
    {
      "cell_type": "markdown",
      "source": [
        "Dự đoán các điểm dữ liệu dựa trên đầu ra của mô hình, chuẩn hóa và tính giá trị dự đoán cuối cùng.\n",
        "Tính độ chính xác của mô hình bằng cách so sánh dự đoán với nhãn thực tế và tính tỷ lệ chính xác."
      ],
      "metadata": {
        "id": "8NZdzs17eETd"
      }
    },
    {
      "cell_type": "code",
      "source": [
        "my_opt = tf.train.GradientDescentOptimizer(0.01)\n",
        "train_step = my_opt.minimize(loss)\n",
        "init = tf.global_variables_initializer()\n",
        "sess.run(init)"
      ],
      "metadata": {
        "id": "l-qjvPbeeg6v"
      },
      "execution_count": null,
      "outputs": []
    },
    {
      "cell_type": "markdown",
      "source": [
        "Khởi tạo bộ tối ưu hóa với thuật toán Gradient Descent và tốc độ học 0.01.\n",
        "Xác định các phép toán tối ưu để giảm thiểu hàm mất mát.\n",
        "Khởi tạo các biến trong mô hình và chuẩn bị cho huấn luyện."
      ],
      "metadata": {
        "id": "bHlY-fLjgNkO"
      }
    },
    {
      "cell_type": "code",
      "source": [
        "loss_vec = []\n",
        "batch_accuracy = []"
      ],
      "metadata": {
        "id": "Iqnq5ffvhLGW"
      },
      "execution_count": null,
      "outputs": []
    },
    {
      "cell_type": "markdown",
      "source": [
        "khởi tạo mảng rỗng chứa vector hàm mất mát và chứa dự đoán độ chính xác"
      ],
      "metadata": {
        "id": "3xf6f9MMhNlK"
      }
    },
    {
      "cell_type": "code",
      "source": [
        "for i in range(1000):\n",
        "    rand_index = np.random.choice(len(x_vals),\n",
        "    size=batch_size)\n",
        "    rand_x = x_vals[rand_index]\n",
        "    rand_y = y_vals[:,rand_index]\n",
        "    sess.run(train_step, feed_dict={x_data: rand_x, y_target:rand_y})\n",
        "    temp_loss = sess.run(loss, feed_dict={x_data: rand_x,y_target: rand_y})\n",
        "    loss_vec.append(temp_loss)\n",
        "    acc_temp = sess.run(accuracy, feed_dict={x_data: rand_x,y_target: rand_y, prediction_grid:rand_x})\n",
        "    batch_accuracy.append(acc_temp)\n",
        "    if (i+1)%5==0:\n",
        "        print('Step #' + str(i+1))\n",
        "        print('Loss = ' + str(temp_loss))"
      ],
      "metadata": {
        "colab": {
          "base_uri": "https://localhost:8080/"
        },
        "id": "KvH14nc8h9Rg",
        "outputId": "19bd6cd6-41eb-4122-b33d-a27c24d5c7de"
      },
      "execution_count": null,
      "outputs": [
        {
          "output_type": "stream",
          "name": "stdout",
          "text": [
            "Step #5\n",
            "Loss = 81.91129\n",
            "Step #10\n",
            "Loss = 39.1155\n",
            "Step #15\n",
            "Loss = 27.430357\n",
            "Step #20\n",
            "Loss = 3.444551\n",
            "Step #25\n",
            "Loss = 5.342228\n",
            "Step #30\n",
            "Loss = 8.643749\n",
            "Step #35\n",
            "Loss = -6.695982\n",
            "Step #40\n",
            "Loss = -9.462782\n",
            "Step #45\n",
            "Loss = -10.694457\n",
            "Step #50\n",
            "Loss = -10.658491\n",
            "Step #55\n",
            "Loss = -10.912077\n",
            "Step #60\n",
            "Loss = -12.47123\n",
            "Step #65\n",
            "Loss = -12.500689\n",
            "Step #70\n",
            "Loss = -12.104557\n",
            "Step #75\n",
            "Loss = -11.117134\n",
            "Step #80\n",
            "Loss = -12.138352\n",
            "Step #85\n",
            "Loss = -12.345854\n",
            "Step #90\n",
            "Loss = -13.291373\n",
            "Step #95\n",
            "Loss = -12.862368\n",
            "Step #100\n",
            "Loss = -14.009859\n",
            "Step #105\n",
            "Loss = -13.164259\n",
            "Step #110\n",
            "Loss = -11.817795\n",
            "Step #115\n",
            "Loss = -12.700555\n",
            "Step #120\n",
            "Loss = -11.642889\n",
            "Step #125\n",
            "Loss = -11.726908\n",
            "Step #130\n",
            "Loss = -13.116382\n",
            "Step #135\n",
            "Loss = -12.887291\n",
            "Step #140\n",
            "Loss = -12.709426\n",
            "Step #145\n",
            "Loss = -10.726498\n",
            "Step #150\n",
            "Loss = -14.486149\n",
            "Step #155\n",
            "Loss = -13.315144\n",
            "Step #160\n",
            "Loss = -14.257942\n",
            "Step #165\n",
            "Loss = -11.631937\n",
            "Step #170\n",
            "Loss = -14.155037\n",
            "Step #175\n",
            "Loss = -13.482585\n",
            "Step #180\n",
            "Loss = -13.11361\n",
            "Step #185\n",
            "Loss = -13.261816\n",
            "Step #190\n",
            "Loss = -11.606413\n",
            "Step #195\n",
            "Loss = -12.053675\n",
            "Step #200\n",
            "Loss = -12.187159\n",
            "Step #205\n",
            "Loss = -12.864567\n",
            "Step #210\n",
            "Loss = -11.370401\n",
            "Step #215\n",
            "Loss = -13.514935\n",
            "Step #220\n",
            "Loss = -13.753622\n",
            "Step #225\n",
            "Loss = -12.675203\n",
            "Step #230\n",
            "Loss = -13.781259\n",
            "Step #235\n",
            "Loss = -12.4356365\n",
            "Step #240\n",
            "Loss = -11.711051\n",
            "Step #245\n",
            "Loss = -11.209423\n",
            "Step #250\n",
            "Loss = -13.105696\n",
            "Step #255\n",
            "Loss = -12.904728\n",
            "Step #260\n",
            "Loss = -12.534199\n",
            "Step #265\n",
            "Loss = -13.520887\n",
            "Step #270\n",
            "Loss = -11.89147\n",
            "Step #275\n",
            "Loss = -13.246142\n",
            "Step #280\n",
            "Loss = -11.924252\n",
            "Step #285\n",
            "Loss = -11.745274\n",
            "Step #290\n",
            "Loss = -11.452538\n",
            "Step #295\n",
            "Loss = -12.582595\n",
            "Step #300\n",
            "Loss = -12.633643\n",
            "Step #305\n",
            "Loss = -12.33657\n",
            "Step #310\n",
            "Loss = -12.067934\n",
            "Step #315\n",
            "Loss = -12.703085\n",
            "Step #320\n",
            "Loss = -12.213667\n",
            "Step #325\n",
            "Loss = -13.541229\n",
            "Step #330\n",
            "Loss = -11.46353\n",
            "Step #335\n",
            "Loss = -12.716679\n",
            "Step #340\n",
            "Loss = -13.326348\n",
            "Step #345\n",
            "Loss = -14.511973\n",
            "Step #350\n",
            "Loss = -13.266512\n",
            "Step #355\n",
            "Loss = -12.53318\n",
            "Step #360\n",
            "Loss = -13.393097\n",
            "Step #365\n",
            "Loss = -11.591593\n",
            "Step #370\n",
            "Loss = -13.630447\n",
            "Step #375\n",
            "Loss = -13.266382\n",
            "Step #380\n",
            "Loss = -13.613571\n",
            "Step #385\n",
            "Loss = -11.911716\n",
            "Step #390\n",
            "Loss = -12.737253\n",
            "Step #395\n",
            "Loss = -14.288433\n",
            "Step #400\n",
            "Loss = -13.573959\n",
            "Step #405\n",
            "Loss = -12.170671\n",
            "Step #410\n",
            "Loss = -11.765059\n",
            "Step #415\n",
            "Loss = -13.250603\n",
            "Step #420\n",
            "Loss = -12.20155\n",
            "Step #425\n",
            "Loss = -11.154361\n",
            "Step #430\n",
            "Loss = -12.713989\n",
            "Step #435\n",
            "Loss = -12.513874\n",
            "Step #440\n",
            "Loss = -11.586683\n",
            "Step #445\n",
            "Loss = -13.508031\n",
            "Step #450\n",
            "Loss = -12.972959\n",
            "Step #455\n",
            "Loss = -11.839195\n",
            "Step #460\n",
            "Loss = -12.862959\n",
            "Step #465\n",
            "Loss = -13.24874\n",
            "Step #470\n",
            "Loss = -12.181837\n",
            "Step #475\n",
            "Loss = -12.04092\n",
            "Step #480\n",
            "Loss = -13.509758\n",
            "Step #485\n",
            "Loss = -12.242523\n",
            "Step #490\n",
            "Loss = -11.817449\n",
            "Step #495\n",
            "Loss = -11.850534\n",
            "Step #500\n",
            "Loss = -14.196564\n",
            "Step #505\n",
            "Loss = -10.662732\n",
            "Step #510\n",
            "Loss = -11.815968\n",
            "Step #515\n",
            "Loss = -12.965046\n",
            "Step #520\n",
            "Loss = -13.693179\n",
            "Step #525\n",
            "Loss = -11.485394\n",
            "Step #530\n",
            "Loss = -12.749955\n",
            "Step #535\n",
            "Loss = -12.187326\n",
            "Step #540\n",
            "Loss = -12.269507\n",
            "Step #545\n",
            "Loss = -13.731808\n",
            "Step #550\n",
            "Loss = -12.954808\n",
            "Step #555\n",
            "Loss = -13.208626\n",
            "Step #560\n",
            "Loss = -12.2485\n",
            "Step #565\n",
            "Loss = -14.390604\n",
            "Step #570\n",
            "Loss = -12.7308445\n",
            "Step #575\n",
            "Loss = -11.588931\n",
            "Step #580\n",
            "Loss = -14.280634\n",
            "Step #585\n",
            "Loss = -13.164173\n",
            "Step #590\n",
            "Loss = -11.99175\n",
            "Step #595\n",
            "Loss = -13.606172\n",
            "Step #600\n",
            "Loss = -12.302391\n",
            "Step #605\n",
            "Loss = -13.63589\n",
            "Step #610\n",
            "Loss = -11.616464\n",
            "Step #615\n",
            "Loss = -13.208209\n",
            "Step #620\n",
            "Loss = -13.248947\n",
            "Step #625\n",
            "Loss = -11.048782\n",
            "Step #630\n",
            "Loss = -13.661997\n",
            "Step #635\n",
            "Loss = -13.02797\n",
            "Step #640\n",
            "Loss = -13.031326\n",
            "Step #645\n",
            "Loss = -11.451798\n",
            "Step #650\n",
            "Loss = -13.002239\n",
            "Step #655\n",
            "Loss = -11.831994\n",
            "Step #660\n",
            "Loss = -13.35973\n",
            "Step #665\n",
            "Loss = -13.173315\n",
            "Step #670\n",
            "Loss = -12.347889\n",
            "Step #675\n",
            "Loss = -12.6680765\n",
            "Step #680\n",
            "Loss = -12.868519\n",
            "Step #685\n",
            "Loss = -11.720179\n",
            "Step #690\n",
            "Loss = -12.314271\n",
            "Step #695\n",
            "Loss = -12.951017\n",
            "Step #700\n",
            "Loss = -11.447698\n",
            "Step #705\n",
            "Loss = -14.035826\n",
            "Step #710\n",
            "Loss = -13.268482\n",
            "Step #715\n",
            "Loss = -10.941136\n",
            "Step #720\n",
            "Loss = -11.857272\n",
            "Step #725\n",
            "Loss = -13.268301\n",
            "Step #730\n",
            "Loss = -13.532425\n",
            "Step #735\n",
            "Loss = -13.567577\n",
            "Step #740\n",
            "Loss = -13.765375\n",
            "Step #745\n",
            "Loss = -13.256317\n",
            "Step #750\n",
            "Loss = -13.954723\n",
            "Step #755\n",
            "Loss = -12.384144\n",
            "Step #760\n",
            "Loss = -11.309117\n",
            "Step #765\n",
            "Loss = -12.465004\n",
            "Step #770\n",
            "Loss = -12.804283\n",
            "Step #775\n",
            "Loss = -13.675722\n",
            "Step #780\n",
            "Loss = -13.447743\n",
            "Step #785\n",
            "Loss = -13.336748\n",
            "Step #790\n",
            "Loss = -11.517103\n",
            "Step #795\n",
            "Loss = -12.485474\n",
            "Step #800\n",
            "Loss = -12.9152565\n",
            "Step #805\n",
            "Loss = -13.727169\n",
            "Step #810\n",
            "Loss = -10.9916725\n",
            "Step #815\n",
            "Loss = -13.21121\n",
            "Step #820\n",
            "Loss = -12.413776\n",
            "Step #825\n",
            "Loss = -13.674619\n",
            "Step #830\n",
            "Loss = -11.610392\n",
            "Step #835\n",
            "Loss = -13.452546\n",
            "Step #840\n",
            "Loss = -12.601731\n",
            "Step #845\n",
            "Loss = -13.096138\n",
            "Step #850\n",
            "Loss = -13.140757\n",
            "Step #855\n",
            "Loss = -12.187543\n",
            "Step #860\n",
            "Loss = -11.979887\n",
            "Step #865\n",
            "Loss = -11.620723\n",
            "Step #870\n",
            "Loss = -13.794508\n",
            "Step #875\n",
            "Loss = -13.075363\n",
            "Step #880\n",
            "Loss = -11.800083\n",
            "Step #885\n",
            "Loss = -12.735445\n",
            "Step #890\n",
            "Loss = -11.992863\n",
            "Step #895\n",
            "Loss = -9.837697\n",
            "Step #900\n",
            "Loss = -14.008328\n",
            "Step #905\n",
            "Loss = -11.315868\n",
            "Step #910\n",
            "Loss = -12.336786\n",
            "Step #915\n",
            "Loss = -11.709729\n",
            "Step #920\n",
            "Loss = -12.194376\n",
            "Step #925\n",
            "Loss = -12.71365\n",
            "Step #930\n",
            "Loss = -11.305087\n",
            "Step #935\n",
            "Loss = -14.437466\n",
            "Step #940\n",
            "Loss = -13.279369\n",
            "Step #945\n",
            "Loss = -13.1997595\n",
            "Step #950\n",
            "Loss = -11.959835\n",
            "Step #955\n",
            "Loss = -14.103874\n",
            "Step #960\n",
            "Loss = -11.9382925\n",
            "Step #965\n",
            "Loss = -13.129312\n",
            "Step #970\n",
            "Loss = -12.26933\n",
            "Step #975\n",
            "Loss = -11.889317\n",
            "Step #980\n",
            "Loss = -12.270685\n",
            "Step #985\n",
            "Loss = -12.870663\n",
            "Step #990\n",
            "Loss = -12.630245\n",
            "Step #995\n",
            "Loss = -12.316762\n",
            "Step #1000\n",
            "Loss = -12.786839\n"
          ]
        }
      ]
    },
    {
      "cell_type": "markdown",
      "source": [
        "sử dụng mini-batch gradient descent, mô hình cập nhật các trọng số qua mỗi vòng lặp để giảm hàm mất mát và cải thiên độ chính xác"
      ],
      "metadata": {
        "id": "MnmwG1ydizba"
      }
    },
    {
      "cell_type": "code",
      "source": [
        "x_min, x_max = x_vals[:, 0].min() - 1, x_vals[:, 0].max() + 1\n",
        "y_min, y_max = x_vals[:, 1].min() - 1, x_vals[:, 1].max() + 1\n",
        "\n",
        "xx, yy = np.meshgrid(np.arange(x_min, x_max, 0.02),\n",
        "np.arange(y_min, y_max, 0.02))\n",
        "\n",
        "grid_points = np.c_[xx.ravel(), yy.ravel()]\n",
        "grid_predictions = sess.run(prediction, feed_dict={x_data:rand_x,y_target:rand_y,prediction_grid: grid_points})\n",
        "grid_predictions = grid_predictions.reshape(xx.shape)"
      ],
      "metadata": {
        "id": "XmaSSHeDjJmF"
      },
      "execution_count": null,
      "outputs": []
    },
    {
      "cell_type": "markdown",
      "source": [
        "dự đoán nhãn cho từng điểm trên lưới để có thể vẽ vùng phân loại của mô hình trên đồ thị"
      ],
      "metadata": {
        "id": "Vjr-RdRyj8zK"
      }
    },
    {
      "cell_type": "code",
      "source": [
        "plt.contourf(xx, yy, grid_predictions, cmap=plt.cm.Paired,\n",
        "alpha=0.8)\n",
        "plt.plot(class1_x, class1_y, 'kx', label='Setosa')\n",
        "plt.plot(class2_x, class2_y, 'gv', label='Versicolor')\n",
        "plt.plot(class3_x, class3_y, 'ro', label='Virginica')\n",
        "plt.title('Gaussian SVM Results: Iris Data')\n",
        "plt.xlabel('Pedal Length')\n",
        "plt.ylabel('Sepal Width')\n",
        "plt.legend(loc='lower right')\n",
        "plt.ylim([-0.5, 3.0])\n",
        "plt.xlim([3.5, 8.5])\n",
        "plt.show()\n",
        "\n",
        "plt.plot(batch_accuracy, 'k-', label='Accuracy')\n",
        "plt.title('Batch Accuracy')\n",
        "plt.xlabel('Generation')\n",
        "plt.ylabel('Accuracy')\n",
        "plt.legend(loc='lower right')\n",
        "plt.show()\n",
        "\n",
        "plt.plot(loss_vec, 'k-')\n",
        "plt.title('Loss per Generation')\n",
        "plt.xlabel('Generation')\n",
        "plt.ylabel('Loss')\n",
        "plt.show()"
      ],
      "metadata": {
        "colab": {
          "base_uri": "https://localhost:8080/",
          "height": 1000
        },
        "id": "O4jOqCTLkOYj",
        "outputId": "4d0fbe23-1a4a-4802-8c39-5f8d23f65129"
      },
      "execution_count": null,
      "outputs": [
        {
          "output_type": "display_data",
          "data": {
            "text/plain": [
              "<Figure size 640x480 with 1 Axes>"
            ],
            "image/png": "[encoded data removed]"
          },
          "metadata": {}
        },
        {
          "output_type": "display_data",
          "data": {
            "text/plain": [
              "<Figure size 640x480 with 1 Axes>"
            ],
            "image/png": "[encoded data removed]"
          },
          "metadata": {}
        },
        {
          "output_type": "display_data",
          "data": {
            "text/plain": [
              "<Figure size 640x480 with 1 Axes>"
            ],
            "image/png": "[encoded data removed]"
          },
          "metadata": {}
        }
      ]
    },
    {
      "cell_type": "markdown",
      "source": [
        "Vẽ đường biên phân loại, đồ thị độ chính xác và biểu đồ mất mát trên dữ liệu Iris để trực quan hóa mô hình Gaussian SVM.\n",
        "Mô hình phân chia không gian thành ba vùng rõ ràng, tương ứng với ba loại hoa, với độ chính xác tốt, mặc dù dữ liệu gần biên có thể gây lỗi phân loại.\n",
        "Biểu đồ độ chính xác cho thấy mô hình ổn định trong suốt quá trình huấn luyện.\n",
        "Biểu đồ mất mát giảm và ổn định sau 200 vòng lặp, cho thấy mô hình đã hội tụ."
      ],
      "metadata": {
        "id": "s8iX23bQkhtg"
      }
    }
  ]
}